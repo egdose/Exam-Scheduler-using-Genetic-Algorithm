{
 "cells": [
  {
   "cell_type": "code",
   "execution_count": 9,
   "metadata": {},
   "outputs": [
    {
     "data": {
      "text/plain": [
       "'\\n.pynb File\\nOne Page PDF Report\\n'"
      ]
     },
     "execution_count": 9,
     "metadata": {},
     "output_type": "execute_result"
    }
   ],
   "source": [
    "#Constraints For The Given Problem\n",
    "\n",
    "\"\"\"\n",
    "Hard Constraints (10 Points Each)\n",
    "• An exam will be scheduled for each course.\n",
    "• A student is enrolled in at least 3 courses. A student cannot give more than 1 exam at a time.\n",
    "• Exam will not be held on weekends.\n",
    "• Each exam must be held between 9 am and 5 pm\n",
    "• Each exam must be invigilated by a teacher. A teacher cannot invigilate two exams at the same time.\n",
    "• A teacher cannot invigilate two exams in a row.\n",
    "\n",
    "Soft Constraints (5 Points Each)\n",
    "• All students and teachers shall be given a break on Friday from 1-2.\n",
    "• A student shall not give more than 1 exam consecutively.\n",
    "• Two hours of break in the week such that at least half the faculty is free in one slot and the rest of the faculty is free in the other slot so the faculty meetings shall be held in parts as they are now.\n",
    "• If a student is enrolled in a MG course and a CS course, it is preferred that their MG course exam be held before their CS course exam.\n",
    "Additional Constraints (Mentioned Later on, Not sure about the points)\n",
    "• Use binary encoding for chromosome.\n",
    "\n",
    "Additional Constraints (Mentioned Later on, Points not known)\n",
    "• 28 Students per Class\n",
    "\n",
    "\"\"\"\n",
    "\n",
    "#Deliverables\n",
    "\n",
    "\"\"\"\n",
    ".pynb File\n",
    "One Page PDF Report\n",
    "\"\"\"\n"
   ]
  },
  {
   "cell_type": "code",
   "execution_count": 10,
   "metadata": {},
   "outputs": [],
   "source": [
    "# %%\n",
    "# All Imports\n",
    "\n",
    "import csv\n",
    "import math"
   ]
  },
  {
   "cell_type": "code",
   "execution_count": 11,
   "metadata": {},
   "outputs": [],
   "source": [
    "#Hyper Parameters\n",
    "\n",
    "population_size = 100"
   ]
  },
  {
   "cell_type": "code",
   "execution_count": 12,
   "metadata": {},
   "outputs": [],
   "source": [
    "#Data Extraction from Files\n",
    "def read_student_data(filename):\n",
    "    #Storing student data in dictionary\n",
    "    #Key is 0,1,2,3 ; value is student name\n",
    "    student_data = dict()\n",
    "    count = 0\n",
    "    with open(filename,mode = 'r') as student_datafile:\n",
    "        read = csv.reader(student_datafile,delimiter = ',')\n",
    "        for name in read:\n",
    "            #studentData.add(name[0])\n",
    "            student_data[count] = name[0]\n",
    "            count += 1\n",
    "    #print(studentData)\n",
    "    return student_data\n",
    "def read_teacher_data(filename):\n",
    "    #Storing teacher data in dictionary\n",
    "    #key is 0,1,2,3 ; value is teacher names\n",
    "    teacher_data = dict()\n",
    "    count = 0\n",
    "    with open(filename,mode = 'r') as teacher_datafile:\n",
    "        read = csv.reader(teacher_datafile,delimiter = ',')\n",
    "        for name in read:\n",
    "            if len(name) == 0:\n",
    "                continue\n",
    "            teacher_data[count] = name[0]\n",
    "            count += 1\n",
    "    #print(teacherData)\n",
    "    return teacher_data\n",
    "def read_course_data(filename):\n",
    "    #Storing Course data\n",
    "    #Key is course code, value is course name\n",
    "    courses_data = dict()\n",
    "    count = 0\n",
    "    with open(filename,mode = 'r') as courses_datafile:\n",
    "        read = csv.reader(courses_datafile,delimiter = ',')\n",
    "        for name in read:\n",
    "            courses_data[name[0]] = name[1]\n",
    "    #print(coursesData)\n",
    "    return courses_data\n",
    "def read_student_in_course_data(filename, courses_data):\n",
    "    #Storing student in each course\n",
    "    #Key is course; value is list of studen taking course\n",
    "    student_in_course_data = dict()\n",
    "    for i in courses_data:\n",
    "        student_in_course_data[i] = []\n",
    "    count = 0\n",
    "    with open(filename, mode = 'r') as student_in_course_datafile:\n",
    "        read = csv.reader(student_in_course_datafile, delimiter = ',')\n",
    "        for name in read:\n",
    "            #Headers in studentCourse.csv\n",
    "            if ( count == 0 ):\n",
    "                count += 1\n",
    "                continue\n",
    "            student_in_course_data[name[2]].append(name[1])\n",
    "            count += 1\n",
    "    #print(studentInCourseData)\n",
    "    return student_in_course_data\n",
    "def courses_to_student_data(filename, student_data):\n",
    "    #Storing courses taken by each student\n",
    "    #Key is student; value is list of courses taken by student\n",
    "    courses_to_student_data = dict()\n",
    "    for i in student_data:\n",
    "        courses_to_student_data[student_data[i]] = []\n",
    "    count = 0\n",
    "    with open(filename, mode = 'r') as courses_to_student_datafile:\n",
    "        read = csv.reader(courses_to_student_datafile, delimiter = ',')\n",
    "        for name in read:\n",
    "            #Headers in studentCourse.csv\n",
    "            if ( count == 0 ):\n",
    "                count += 1\n",
    "                continue\n",
    "            courses_to_student_data[name[1]].append(name[2])\n",
    "            count += 1\n",
    "    #print(coursesToStudentData)\n",
    "    return courses_to_student_data"
   ]
  },
  {
   "cell_type": "code",
   "execution_count": 15,
   "metadata": {},
   "outputs": [],
   "source": [
    "#Miscellaneous Functions\n",
    "def avg_students_per_course(student_in_course_data):\n",
    "    sum_students = 0\n",
    "    leng = 0\n",
    "    for i in student_in_course_data:\n",
    "        sum_students += len(student_in_course_data[i])\n",
    "        leng += 1\n",
    "    return (sum_students / leng)"
   ]
  },
  {
   "cell_type": "code",
   "execution_count": 16,
   "metadata": {},
   "outputs": [
    {
     "name": "stdout",
     "output_type": "stream",
     "text": [
      "Number of Students: 200\n",
      "Number of Teachers: 63\n",
      "Number of Courses: 23\n",
      "Average Students Per Course: 35.65217391304348\n",
      "Classrooms Per Course: 3\n",
      "Average Students Per Classroom: 12\n"
     ]
    }
   ],
   "source": [
    "if __name__ == \"__main__\":\n",
    "    student_data = read_student_data('studentNames.csv')\n",
    "    teacher_data = read_teacher_data('teachers.csv')\n",
    "    course_data = read_course_data('courses.csv')\n",
    "    student_in_course = read_student_in_course_data('studentCourse.csv', course_data)\n",
    "    courses_to_student = courses_to_student_data('studentCourse.csv', student_data)\n",
    "    print(f\"Number of Students: {len(student_data.keys())}\")\n",
    "    print(f\"Number of Teachers: {len(teacher_data.keys())}\")\n",
    "    print(f\"Number of Courses: {len(course_data.keys())}\")\n",
    "    \n",
    "    avg_students = avg_students_per_course(student_in_course)\n",
    "    classrooms_per_course = math.ceil(len(teacher_data.keys())/len(course_data.keys()))\n",
    "    avg_students_per_classroom = math.ceil(avg_students/classrooms_per_course)\n",
    "    \n",
    "    print(f\"Average Students Per Course: {avg_students}\")\n",
    "    print(f\"Classrooms Per Course: {classrooms_per_course}\")\n",
    "    print(f\"Average Students Per Classroom: {avg_students_per_classroom}\")\n",
    "    \n",
    "    \n",
    "    \n",
    "    "
   ]
  },
  {
   "cell_type": "code",
   "execution_count": null,
   "metadata": {},
   "outputs": [],
   "source": []
  }
 ],
 "metadata": {
  "kernelspec": {
   "display_name": "Python 3",
   "language": "python",
   "name": "python3"
  },
  "language_info": {
   "codemirror_mode": {
    "name": "ipython",
    "version": 3
   },
   "file_extension": ".py",
   "mimetype": "text/x-python",
   "name": "python",
   "nbconvert_exporter": "python",
   "pygments_lexer": "ipython3",
   "version": "3.8.3"
  }
 },
 "nbformat": 4,
 "nbformat_minor": 4
}
