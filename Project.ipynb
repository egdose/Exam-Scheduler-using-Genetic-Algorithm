{
 "cells": [
  {
   "cell_type": "code",
   "execution_count": null,
   "metadata": {},
   "outputs": [],
   "source": [
    "# %%\n",
    "\n",
    "import csv\n",
    "import math"
   ]
  },
  {
   "cell_type": "code",
   "execution_count": 2,
   "metadata": {},
   "outputs": [],
   "source": [
    "def readStudentData(filename):\n",
    "    #Storing student data in dictionary\n",
    "    #Key is 0,1,2,3 ; value is student name\n",
    "    studentData = dict()\n",
    "    count = 0\n",
    "    with open(filename,mode = 'r') as studentdatafile:\n",
    "        read = csv.reader(studentdatafile,delimiter = ',')\n",
    "        for name in read:\n",
    "            #studentData.add(name[0])\n",
    "            studentData[count] = name[0]\n",
    "            count += 1\n",
    "    #print(studentData)\n",
    "    return studentData\n",
    "def readTeacherData(filename):\n",
    "    #Storing teacher data in dictionary\n",
    "    #key is 0,1,2,3 ; value is teacher names\n",
    "    teacherData = dict()\n",
    "    count = 0\n",
    "    with open(filename,mode = 'r') as teacherdatafile:\n",
    "        read = csv.reader(teacherdatafile,delimiter = ',')\n",
    "        for name in read:\n",
    "            if len(name) == 0:\n",
    "                continue\n",
    "            teacherData[count] = name[0]\n",
    "            count += 1\n",
    "    #print(teacherData)\n",
    "    return teacherData\n",
    "def readCourseData(filename):\n",
    "    #Storing Course data\n",
    "    #Key is course code, value is course name\n",
    "    coursesData = dict()\n",
    "    count = 0\n",
    "    with open(filename,mode = 'r') as coursesdatafile:\n",
    "        read = csv.reader(coursesdatafile,delimiter = ',')\n",
    "        for name in read:\n",
    "            coursesData[name[0]] = name[1]\n",
    "    #print(coursesData)\n",
    "    return coursesData\n",
    "def readstudentInCourseData(filename, coursesData):\n",
    "    #Storing student in each course\n",
    "    #Key is course; value is list of studen taking course\n",
    "    studentInCourseData = dict()\n",
    "    for i in coursesData:\n",
    "        studentInCourseData[i] = []\n",
    "    count = 0\n",
    "    with open(filename, mode = 'r') as student_in_course_datafile:\n",
    "        read = csv.reader(student_in_course_datafile, delimiter = ',')\n",
    "        for name in read:\n",
    "            #Headers in studentCourse.csv\n",
    "            if ( count == 0 ):\n",
    "                count += 1\n",
    "                continue\n",
    "            studentInCourseData[name[2]].append(name[1])\n",
    "            count += 1\n",
    "    #print(studentInCourseData)\n",
    "    return studentInCourseData\n",
    "def coursesToStudentData(filename, studentData):\n",
    "    #Storing courses taken by each student\n",
    "    #Key is student; value is list of courses taken by student\n",
    "    coursesToStudentData = dict()\n",
    "    for i in studentData:\n",
    "        coursesToStudentData[studentData[i]] = []\n",
    "    count = 0\n",
    "    with open(filename, mode = 'r') as courses_to_student_datafile:\n",
    "        read = csv.reader(courses_to_student_datafile, delimiter = ',')\n",
    "        for name in read:\n",
    "            #Headers in studentCourse.csv\n",
    "            if ( count == 0 ):\n",
    "                count += 1\n",
    "                continue\n",
    "            coursesToStudentData[name[1]].append(name[2])\n",
    "            count += 1\n",
    "    #print(coursesToStudentData)\n",
    "    return coursesToStudentData"
   ]
  },
  {
   "cell_type": "code",
   "execution_count": null,
   "metadata": {},
   "outputs": [],
   "source": [
    "#Miscellaneous Functions\n",
    "def avg_students_per_course(studentInCourseData):\n",
    "    sumStudents = 0\n",
    "    leng = 0\n",
    "    for i in studentInCourseData:\n",
    "        sumStudents += len(studentInCourseData[i])\n",
    "        leng += 1\n",
    "    return (sumStudents / leng)"
   ]
  },
  {
   "cell_type": "code",
   "execution_count": 3,
   "metadata": {},
   "outputs": [
    {
     "name": "stdout",
     "output_type": "stream",
     "text": [
      "Number of Students: 200\n",
      "Number of Teachers: 63\n",
      "Number of Courses: 23\n",
      "35.65217391304348\n"
     ]
    }
   ],
   "source": [
    "if __name__ == \"__main__\":\n",
    "    studentData = readStudentData('studentNames.csv')\n",
    "    teacherData = readTeacherData('teachers.csv')\n",
    "    courseData = readCourseData('courses.csv')\n",
    "    studentInCourseData = readstudentInCourseData('studentCourse.csv', courseData)\n",
    "    CoursesToStudentData = coursesToStudentData('studentCourse.csv', studentData)\n",
    "    print(f\"Number of Students: {len(studentData.keys())}\")\n",
    "    print(f\"Number of Teachers: {len(teacherData.keys())}\")\n",
    "    print(f\"Number of Courses: {len(courseData.keys())}\")\n",
    "    #print(f\"Number of Students: {len(studentInCourseData.keys())}\")\n",
    "    #print(f\"Number of Students: {len(CoursesToStudentData.keys())}\")\n",
    "    \n",
    "    print(f\"Average Students Per Course: {avg_students_per_course(studentInCourseData)}\")"
   ]
  },
  {
   "cell_type": "code",
   "execution_count": null,
   "metadata": {},
   "outputs": [],
   "source": []
  }
 ],
 "metadata": {
  "kernelspec": {
   "display_name": "Python 3",
   "language": "python",
   "name": "python3"
  },
  "language_info": {
   "codemirror_mode": {
    "name": "ipython",
    "version": 3
   },
   "file_extension": ".py",
   "mimetype": "text/x-python",
   "name": "python",
   "nbconvert_exporter": "python",
   "pygments_lexer": "ipython3",
   "version": "3.8.5"
  }
 },
 "nbformat": 4,
 "nbformat_minor": 4
}
